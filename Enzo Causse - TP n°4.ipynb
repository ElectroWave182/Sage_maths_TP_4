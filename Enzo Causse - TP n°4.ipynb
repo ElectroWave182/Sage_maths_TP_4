{
 "cells": [
  {
   "cell_type": "markdown",
   "metadata": {},
   "source": [
    "$\\renewcommand{\\r}{\\mathbb{ R}}$ $\\newcommand{\\Q}{\\mathbb{ Q}}$ $\\newcommand{\\R}{\\mathbb{ R}}$ $\\newcommand{\\C}{\\mathbb{C}}$ $\\newcommand{\\Z}{\\mathbb{Z}}$ $\\newcommand{\\ens}[1]{\\left\\{ {#1} \\right\\}}$ $\\newcommand{\\pv}{\\;;\\;}$ $\\newcommand{\\sev}{sous-espace vectoriel}$ $\\newcommand{\\evc}{espace vectoriel canonique}$ $\\newcommand{\\vect}{\\text{vect}}$$\\newcommand{\\calf}{\\mathscr{F}}$ $\\newcommand{\\calc}{\\mathscr{C}}$\n",
    "\n"
   ]
  },
  {
   "cell_type": "markdown",
   "metadata": {},
   "source": [
    "# TP n°4 : l'algorithme du pivot de Gauss vertical\n",
    "\n",
    "*Vous devez disposer du cours d'Algèbre linéaire où l'algorithme du pivot vertival est expliqué. D'ailleurs, l'exemple utilisé dans le cours sera repris ici, donc ça vous permettra facilement de déboguer.*\n",
    "\n",
    "**Si vous réussissez à coder honnêtement en 2 ou 3 heures à coder l'algorithme du pivot de Gauss sans mémorisation, vous avez alors obtenu un résultat plus qu'honorable**\n",
    "\n",
    "On se donne un $K$-espace vectoriel $E$ de dimension $n$, muni d'une base $\\calc=(c_0,\\dots, c_{n-1})$. On se donne une famille $\\calf=(u_0,u_0, \\dots, u_{p-1})$ de $p$ vecteurs de $E$ dont les coordonnées dans la base $\\calc$ sont connues. Plus précisément, soit la matrice $P$ de taille $n\\times p$ dont les $p$ vecteurs-colonnes sont les coordonnées de $u_0,u_0, \\dots, u_{p-1}$ dans la base $\\calc$.  On notera $F=\\vect(u_0,u_0, \\dots, u_{p-1})$.\n",
    "\n",
    "Dans tout l'exercice, l'exemple-témoin sera obtenu pour $n=5$, $p=4$ et la matrice $P$ suivante :\n",
    "\n",
    "$$P=\\left(\\begin{array}{cccc} 0 & 1 & 2 &1\\\\ 0 & 0 &0 &0\\\\-2 & 1 & -1 &0\\\\0 & -2 &3&5\\\\ 1 &0 & 1& 0\\end{array}\\right)$$\n",
    "\n",
    "correspondant aux vecteurs suivants :\n",
    "\n",
    "$$\\begin{array}{llll}u_0=( 0, 0, -2 , 0 , 1 )\\\\u_1=( 1, 0, 1 , -2 , 0 )\\\\u_2=( 2, 0, -1 , 3 , 1 )\\\\u_3=( 1, 0, 0 , 5 , 0)\\end{array}$$\n",
    "\n",
    "Toutes les indexations se font à partir de 0. De préférence, la matrice initiale $P$ devra être préservée (donc l'algorithme travaillera sur une copie $G$ de $P$).\n",
    "\n",
    "Les matrices seront construites à coefficients dans $\\Q$(observer `QQ` dans le code ci-dessous).\n"
   ]
  },
  {
   "cell_type": "markdown",
   "metadata": {},
   "source": [
    "# Vecteurs et matrices : résumé\n",
    "\n",
    "Vous êtes censés avoir lu la feuille sur l'utilisation rudimentaire des vecteurs et matrices sous SageMath. Voici toutefois quelques rappels sur les matrices dans une cellule de code ci-dessous."
   ]
  },
  {
   "cell_type": "code",
   "execution_count": null,
   "metadata": {},
   "outputs": [],
   "source": [
    "u1=vector([0, 0, -2 , 0 , 1])\n",
    "u2=vector([1, 0, 1 , -2 , 0])\n",
    "u3=vector([2, 0, -1 , 3 , 1])\n",
    "u4=vector([1, 0, 0 , 5 , 0])\n",
    "\n",
    "P=matrix(QQ,[u1, u2, u3,u4]).transpose()\n",
    "show(P)"
   ]
  },
  {
   "cell_type": "markdown",
   "metadata": {},
   "source": [
    "Pour faire une copie G de P, on utilise la fonction copy :"
   ]
  },
  {
   "cell_type": "code",
   "execution_count": null,
   "metadata": {},
   "outputs": [],
   "source": [
    "G=copy(P)\n",
    "show(G)\n",
    "\n",
    "# on modifie la copie\n",
    "G[0,0]=9999\n",
    "show(G)\n",
    "\n",
    "# on vérifie que P est préservée\n",
    "show(P)"
   ]
  },
  {
   "cell_type": "code",
   "execution_count": 3,
   "metadata": {},
   "outputs": [
    {
     "data": {
      "text/html": [
       "<html><script type=\"math/tex; mode=display\">\\newcommand{\\Bold}[1]{\\mathbf{#1}}\\left(\\begin{array}{rrr}\n",
       "33 & 21 & 12 \\\\\n",
       "19 & 63 & 42 \\\\\n",
       "81 & 75 & 20\n",
       "\\end{array}\\right)</script></html>"
      ],
      "text/plain": [
       "[33 21 12]\n",
       "[19 63 42]\n",
       "[81 75 20]"
      ]
     },
     "metadata": {},
     "output_type": "display_data"
    },
    {
     "name": "stdout",
     "output_type": "stream",
     "text": [
      "3 3\n",
      "81\n"
     ]
    },
    {
     "data": {
      "text/html": [
       "<html><script type=\"math/tex; mode=display\">\\newcommand{\\Bold}[1]{\\mathbf{#1}}\\left(\\begin{array}{rrr}\n",
       "33 & 21 & 12 \\\\\n",
       "19 & 63 & 42 \\\\\n",
       "1000 & 75 & 20\n",
       "\\end{array}\\right)</script></html>"
      ],
      "text/plain": [
       "[  33   21   12]\n",
       "[  19   63   42]\n",
       "[1000   75   20]"
      ]
     },
     "metadata": {},
     "output_type": "display_data"
    },
    {
     "data": {
      "text/html": [
       "<html><script type=\"math/tex; mode=display\">\\newcommand{\\Bold}[1]{\\mathbf{#1}}\\left(\\begin{array}{rrr}\n",
       "33 & 19 & 1000 \\\\\n",
       "21 & 63 & 75 \\\\\n",
       "12 & 42 & 20\n",
       "\\end{array}\\right)</script></html>"
      ],
      "text/plain": [
       "[  33   19 1000]\n",
       "[  21   63   75]\n",
       "[  12   42   20]"
      ]
     },
     "metadata": {},
     "output_type": "display_data"
    },
    {
     "name": "stdout",
     "output_type": "stream",
     "text": [
      "<class 'sage.modules.vector_rational_dense.Vector_rational_dense'>\n"
     ]
    },
    {
     "data": {
      "text/html": [
       "<html><script type=\"math/tex; mode=display\">\\newcommand{\\Bold}[1]{\\mathbf{#1}}\\left(\\begin{array}{rrrr}\n",
       "0 & 1 & 2 & 1 \\\\\n",
       "0 & 0 & 0 & 0 \\\\\n",
       "-2 & 1 & -1 & 0 \\\\\n",
       "0 & -2 & 3 & 5 \\\\\n",
       "1 & 0 & 1 & 0\n",
       "\\end{array}\\right)</script></html>"
      ],
      "text/plain": [
       "[ 0  1  2  1]\n",
       "[ 0  0  0  0]\n",
       "[-2  1 -1  0]\n",
       "[ 0 -2  3  5]\n",
       "[ 1  0  1  0]"
      ]
     },
     "metadata": {},
     "output_type": "display_data"
    }
   ],
   "source": [
    "# Rappel des commandes utiles de calcul matriciel\n",
    "\n",
    "\n",
    "# Une matrice à coeff. dans Q\n",
    "# On écrit les lignes\n",
    "P=matrix(QQ, [(33, 21, 12),(19, 63, 42),(81, 75, 20)])\n",
    "show(P)\n",
    "\n",
    "# nombres de lignes et de colonnes\n",
    "n=P.nrows()\n",
    "p=P.ncols()\n",
    "print(n, p)\n",
    "\n",
    "# lecture d'un élément\n",
    "print(P[2,0])\n",
    "\n",
    "# Modification d'un élément\n",
    "P[2,0]=1000\n",
    "show(P)\n",
    "\n",
    "# La transposée\n",
    "# permet d'écrire en colonne\n",
    "\n",
    "PP=P.transpose()\n",
    "show(PP)\n",
    "\n",
    "# les lignes d'une matrices sont des vecteurs\n",
    "print(type(P[2]))\n",
    "\n",
    "\n",
    "# on peut aussi écrire directement les colonnes de la matrice\n",
    "\n",
    "u1=vector([0, 0, -2 , 0 , 1])\n",
    "u2=vector([1, 0, 1 , -2 , 0])\n",
    "u3=vector([2, 0, -1 , 3 , 1])\n",
    "u4=vector([1, 0, 0 , 5 , 0])\n",
    "\n",
    "P=column_matrix(QQ,[u1, u2, u3,u4])\n",
    "show(P)\n"
   ]
  },
  {
   "cell_type": "markdown",
   "metadata": {},
   "source": [
    "## Partie I : pivot de Gauss vertical simple\n",
    "\n",
    "### Recherche de la position du pivot\n",
    "\n",
    "On cherche la position du pivot dans la matrice $G$ **à partir** d'une certaine colonne d'indice $d$. Au début de l'algorithme, $d=0$. Il est à la ligne d'indice $i$ minimal et à la colonne d'indice $j\\geq d$ minimal en sorte que le terme en position $(i,j)$ de $G$ soit non nul.\n",
    "\n",
    "Ecrire une fonction `pos_pivot(G, col_depart)` qui renvoie les deux indices sous forme de liste `[i, j]`. Si tous les termes concernés dans la matrice `G` sont nuls, la fonction renverra la liste `[n+1, d]`.\n",
    "\n",
    "On testera avec toutes les matrices de l'exemples ci-dessous.\n",
    "\n"
   ]
  },
  {
   "cell_type": "code",
   "execution_count": null,
   "metadata": {},
   "outputs": [],
   "source": [
    "tests=[\n",
    "      matrix([(4, 2),(8, 1)]),\n",
    "      matrix([(0, 0, 4, 2),(0, 0, 0, 0),(0, 0, 0, 0)]),\n",
    "      matrix([(0, 0, 0, 0),(0, 0, 4, 0),(0, 0, 0, 0)]),\n",
    "      matrix([(0, 0, 0, 0),(2, 0, 0, 0),(0, 0, 0, 4)]),\n",
    "      matrix([(0, 0, 0, 0),(0, 0, 0, 0),(0, 0, 0, 4)]),\n",
    "      matrix([(0, 0, 0, 0),(0, 0, 0, 0),(0, 0, 0, 0)])]\n",
    "show(tests)"
   ]
  },
  {
   "cell_type": "code",
   "execution_count": null,
   "metadata": {},
   "outputs": [],
   "source": [
    "# Votre code ICI\n",
    "\n",
    "# Tests\n",
    "for P in tests:\n",
    "    print(indice_col_non_nulle(P, 0))"
   ]
  },
  {
   "cell_type": "markdown",
   "metadata": {},
   "source": [
    "### Échange de colonnes\n",
    "\n",
    "L'algorithme du pivot vertical peut nécessiter d'échanger des colonnes. \n",
    "\n",
    "Le code ci-dessous montre, sur deux exemples, la manière pythonique d'échanger deux valeurs numériques (ici 42 et 81) :\n",
    "\n"
   ]
  },
  {
   "cell_type": "code",
   "execution_count": null,
   "metadata": {},
   "outputs": [],
   "source": [
    "# 1er exemple\n",
    "a=42\n",
    "b=81\n",
    "print( a,b)\n",
    "# echange\n",
    "a, b = b, a\n",
    "print(a,b)\n",
    "matrix([(33, 21, 12),(19, 63, 42),(81, 75, 20)])"
   ]
  },
  {
   "cell_type": "markdown",
   "metadata": {},
   "source": [
    "Mais, avec la même syntaxe, on peut échanger des coefficients d'une matrice. Observez le code ci-dessous :"
   ]
  },
  {
   "cell_type": "code",
   "execution_count": null,
   "metadata": {},
   "outputs": [],
   "source": [
    "# 2e exemple\n",
    "P=matrix([(33, 21, 12),(19, 63, 42),(81, 75, 20)])\n",
    "show(P)\n",
    "# echange\n",
    "P[2,0], P[1,2] = P[1,2],P[2,0]\n",
    "\n",
    "show(P)"
   ]
  },
  {
   "cell_type": "markdown",
   "metadata": {},
   "source": [
    "Ecrire une fonction `echanger_cols(G, j, k)` qui échange les colonnes d'indices `j` et `k` de `G`. On échangera élément par élément. La fonction ne renverra rien, elle se contentera de modifier `G`.\n",
    "\n",
    "Bien sûr, il faut boucler sur le nombre de lignes.\n",
    "\n",
    "Tester.\n",
    "\n"
   ]
  },
  {
   "cell_type": "code",
   "execution_count": null,
   "metadata": {},
   "outputs": [],
   "source": [
    "# Votre code ICI\n",
    "\n",
    "# Tests\n",
    "        \n",
    "P=matrix(QQ, [(33, 21, 12),(2, 64, 42),(81, 75, 20),(34, 49, 28)])\n",
    "show(P)\n",
    "echange_cols(P,0,2)\n",
    "show(P)"
   ]
  },
  {
   "cell_type": "markdown",
   "metadata": {},
   "source": [
    "### Réduction de colonne\n",
    "\n",
    "On suppose que le pivot est à sa place, à la position `(ipivot, jpivot)`. Et on veut réduire la colonne d'indice `k` de `G` par la méthode du pivot de Gauss en colonnes. On rappelle qu'on ajoute à la colonne `Ck` d'indice `k`, la colonne `C` obtenue en multipliant la colonne d'indice `jpivot` par un coefficient adéquat pour que le terme en position `(ipivot, k)` devienne nul. On rappelle que SageMath travaille par défaut avec des fractions.\n",
    "\n",
    "Coder une fonction `reduire_colk(G, ipivot, jpivot, k)` qui **modifie** `G` comme indiqué ci-dessus.\n",
    "\n",
    "La fonction ne renvoie rien, elle a juste un effet de bord consistant à modifier un argument qu'elle reçoit.\n",
    "\n",
    "Tester abondamment, sur des matrices arbitraires (pas forcément échelonnées, il suffit de se fixer un pivot non nul).\n",
    "\n"
   ]
  },
  {
   "cell_type": "code",
   "execution_count": null,
   "metadata": {},
   "outputs": [],
   "source": [
    "# Votre code ICI\n",
    "\n",
    "\n",
    "       \n",
    "# exemple de test    \n",
    "P=matrix(QQ, [(33, 21, 12),(2, 64, 42),(81, 75, 20),(34, 49, 28)])\n",
    "show(P)\n",
    "\n",
    "ipivot, jpivot = 1, 0\n",
    "k=1\n",
    "reduire_colk(P,ipivot, jpivot, k)\n",
    "show(P)        "
   ]
  },
  {
   "cell_type": "markdown",
   "metadata": {},
   "source": [
    "### Réduction de la ligne\n",
    "\n",
    "On suppose toujours que le pivot est à sa place, à la position (ipivot, jpivot). Et on veut maintenant réduire **toute** la ligne située strictement à droite du pivot (et pas simplement un seul coefficient comme c'était le cas ci-dessus).\n",
    "\n",
    "Coder une fonction `reduire_ligne(G, ipivot, jpivot)` qui **modifie** `G` comme indiqué ci-dessus. Cette fonction appelera en boucle la fonction précédente de reduction de colonne.\n",
    "\n",
    "Tester.\n",
    "\n"
   ]
  },
  {
   "cell_type": "code",
   "execution_count": null,
   "metadata": {},
   "outputs": [],
   "source": [
    "# Votre code ICI\n",
    "\n",
    "\n",
    "# exemple de test    \n",
    "P=matrix(QQ, [(33, 21, 12),(2, 64, 42),(81, 75, 20),(34, 49, 28)])\n",
    "G=copy(P)\n",
    "show(G)\n",
    "\n",
    "ipivot, jpivot = 1, 0\n",
    "reduire_ligne(G, ipivot, jpivot)\n",
    "show(G)\n",
    "print('===================')\n",
    "\n",
    "G=copy(P)\n",
    "show(G)\n",
    "\n",
    "ipivot, jpivot = 0, 0\n",
    "reduire_ligne(G, ipivot, jpivot)\n",
    "show(G)"
   ]
  },
  {
   "cell_type": "markdown",
   "metadata": {},
   "source": [
    "### L'algorithme du pivot de Gauss vertical\n",
    "\n",
    "Utiliser toutes les fonctions précédentes pour coder une fonction `gauss(P)` qui implémente l'algorithme du pivot de Gauss vertical. La fonction devra renvoyer la matrice échelonnée en colonnes.\n",
    "\n",
    "Pour une meilleure lisibilité, replacer toutes les fonctions utiles dans la cellule ci-dessous.\n",
    "\n",
    "Tester avec tous les exemples ci-dessous. \n",
    "\n",
    "Pour obtenir une copie de `P`, utiliser la fonction `copy`.\n",
    "\n"
   ]
  },
  {
   "cell_type": "code",
   "execution_count": null,
   "metadata": {},
   "outputs": [],
   "source": [
    "\n",
    "# Votre code ICI\n",
    "\n",
    "# Tests   \n",
    "u1=vector([0, 0, -2 , 0 , 1])\n",
    "u2=vector([1, 0, 1 , -2 , 0])\n",
    "u3=vector([2, 0, -1 , 3 , 1])\n",
    "u4=vector([1, 0, 0 , 5 , 0])\n",
    "\n",
    "P=column_matrix(QQ,[u1, u2, u3,u4])\n",
    "E=gauss(P)\n",
    "show(E)\n",
    "\n",
    "\n",
    "P=matrix(QQ,[(33, 21, 12),(19, 63, 42),(81, 75, 20)])\n",
    "E=gauss(P)\n",
    "show(E)\n",
    "\n",
    "P=matrix(QQ,[[1, 1, 1, 1], [1, 1, 1, 1], [1, 1, 1, 1]])\n",
    "E=gauss(P)\n",
    "show(E)\n",
    "\n",
    "P=matrix(QQ,4, 5)\n",
    "E=gauss(P)\n",
    "show(E)\n",
    "\n",
    "\n",
    "P=matrix(QQ,[[1, 2, 1, 1], [1, 1, 1, 1], [1, 1, 1, 1]])\n",
    "show(P)\n",
    "E=gauss(P)\n",
    "show(E)\n",
    "\n",
    "P=matrix(QQ, [(0, 5),(0, 2),(3, 4),(8, 9)])\n",
    "show(P)\n",
    "E=gauss(P)\n",
    "show(E)\n",
    "\n",
    "P=matrix(QQ, [(0, 5),(0, 2),(3, 4),(8, 9)]).transpose()\n",
    "show(P)\n",
    "E=gauss(P)\n",
    "show(E)"
   ]
  },
  {
   "cell_type": "markdown",
   "metadata": {},
   "source": [
    "### Image d'une application linéaire, rang\n",
    "\n",
    "A l'aide de la fonction précédente, écrire une fonction `image(P)` qui renvoie une base de l'image de l'application linéaire $f$ canoniquement associée à `P` (attention, penser à retirer les vecteurs nuls des colonnes). Votre base sera juste une liste de vecteurs.\n",
    "\n",
    "De même, écrire une fonction `rang(P)` qui renvoie le rang de $f$.\n",
    "\n"
   ]
  },
  {
   "cell_type": "code",
   "execution_count": null,
   "metadata": {},
   "outputs": [],
   "source": [
    "# Votre code ICI\n",
    "\n",
    "# Tests\n",
    "\n",
    "u1=vector([0, 0, -2 , 0 , 1])\n",
    "u2=vector([1, 0, 1 , -2 , 0])\n",
    "u3=vector([2, 0, -1 , 3 , 1])\n",
    "u4=vector([1, 0, 0 , 5 , 0])\n",
    "\n",
    "P=column_matrix(QQ,[u1, u2, u3,u4])\n",
    "\n",
    "print(image(P), rang(P))"
   ]
  },
  {
   "cell_type": "markdown",
   "metadata": {},
   "source": [
    "## Algorithme de Gauss avec mémorisation\n",
    "\n",
    "Le cours détaille le principe de la mémorisation. Le relire avant de vous lancer dans le codage, c'est moins simple que l'algorithme sans mémorisation. Les colonnes de chaque nouveau tableau dans un pivot de Gauss vertical sont une combinaison linéaire des $p$ vecteurs initiaux. L'algorithme de pivot vertical avec mémorisation consiste à effectuer le pivot de Gauss vertical mais à garder trace, à chaque nouveau tableau, de cette combinaison linéaire. Pour garder trace de chaque combinaison linéaire, il suffit de pronlonger chaque colonne avec $p$ lignes dont les $p$ coefficients représentent les coefficients de la combinaison linéaire donnant la colonne référencée. Ainsi, la matrice $P$ suivante :\n",
    "\n",
    "$$P=\\left(\\begin{array}{cccc} 0 & 1 & 2 &1\\\\ 0 & 0 &0 &0\\\\-2 & 1 & -1 &0\\\\0 & -2 &3&5\\\\ 1 &0 & 1& 0\\end{array}\\right)$$\n",
    "\n",
    "correspondant aux vecteurs suivants :\n",
    "\n",
    "$$\\begin{array}{llll}u_0=( 0, 0, -2 , 0 , 1 )\\\\u_1=( 1, 0, 1 , -2 , 0 )\\\\u_2=( 2, 0, -1 , 3 , 1 )\\\\u_3=( 1, 0, 0 , 5 , 0)\\end{array}$$\n",
    "\n",
    "sera initialisée par le tableau prolongé suivant :\n",
    "\n",
    "$$\\begin{array}{cccc}0 & 1 & 2 &1\\\\ 0 & 0 &0 &0\\\\-2 & 1 & -1 &0\\\\0 & -2 &3&5\\\\1 &0 & 1& 0\\\\\\hline 1 & 0 & 0 &0\\\\0 & 1 &0 &0\\\\0 & 0 & 1 &0\\\\0 & 0 &0&1\\end{array}$$\n",
    "\n",
    "Noter qu'à la différence du cours j'ai placé la mémorisation en-dessous mais cela n'a aucune conséquence.\n",
    "\n",
    "L'intérêt de cette présentation est qu'il suffit de faire le pivot de Gauss vertical habituel sur la matrice prolongée pour garder des traces des valeurs des colonnes (ce point est essentiel à comprendre, regarder les exemples du cours si ce n'est pas clair.\n",
    "\n",
    "Utiliser la fonction `gauss(P)` de la question précédente dans une fonction `gauss_memo(P)` qui renvoie une liste `[E, T]` de deux matrices :\n",
    "\n",
    "- la matrice échelonnée `E` de taille `n` x `p` (celle de l'algo sans mémorisation) ;\n",
    "\n",
    "- la matrice `T` carrée d'ordre `p` dont les lignes sont les coefficients des combinaisons linéaires des `p` vecteurs initiaux représentant les différentes colonnes de la matrice échelonnée `E`.\n",
    "\n",
    "Tester et vérifier.\n",
    "\n"
   ]
  },
  {
   "cell_type": "code",
   "execution_count": null,
   "metadata": {},
   "outputs": [],
   "source": [
    "# Votre code ICI\n",
    "\n",
    "# Tests\n",
    "        \n",
    "u1=vector([0, 0, -2 , 0 , 1])\n",
    "u2=vector([1, 0, 1 , -2 , 0])\n",
    "u3=vector([2, 0, -1 , 3 , 1])\n",
    "u4=vector([1, 0, 0 , 5 , 0])\n",
    "\n",
    "P=column_matrix(QQ,[u1, u2, u3,u4])\n",
    "show(P)\n",
    "show(gauss_mem(P))"
   ]
  },
  {
   "cell_type": "markdown",
   "metadata": {},
   "source": [
    "<html><script type=\"math/tex; mode=display\">\\newcommand{\\Bold}[1]{\\mathbf{#1}}\\left(\\begin{array}{rrrr}\n",
    "\n",
    "0 ` 1 ` 2 & 1 \\\\\n",
    "\n",
    "0 ` 0 ` 0 & 0 \\\\\n",
    "\n",
    "- 2 ` 1 ` -1 & 0 \\\\\n",
    "\n",
    "0 ` -2 ` 3 & 5 \\\\\n",
    "\n",
    "1 ` 0 ` 1 & 0\n",
    "\n",
    "\\end{array}\\right)</script></html>\n",
    "\n",
    "<html><script type=\"math/tex; mode=display\">\\newcommand{\\Bold}[1]{\\mathbf{#1}}\\left(\\left(\\begin{array}{rrrr}\n",
    "\n",
    "1 ` 0 ` 0 & 0 \\\\\n",
    "\n",
    "0 ` 0 ` 0 & 0 \\\\\n",
    "\n",
    "1 ` -2 ` 0 & 0 \\\\\n",
    "\n",
    "- 2 ` 0 ` 7 & 0 \\\\\n",
    "\n",
    "0 ` 1 ` -\\frac{1}{2} & 0\n",
    "\n",
    "\\end{array}\\right), \\left(\\begin{array}{rrrr}\n",
    "\n",
    "0 ` 1 ` 0 & 0 \\\\\n",
    "\n",
    "1 ` 0 ` 0 & 0 \\\\\n",
    "\n",
    "- \\frac{3}{2} ` -2 ` 1 & 0 \\\\\n",
    "\n",
    "1 ` 1 ` -1 & 1\n",
    "\n",
    "\\end{array}\\right)\\right)</script></html>\n",
    "\n",
    "## Partie III : équations cartésiennes\n",
    "\n",
    "L'algorithme du pivot vertical permet de déterminer un système d'équations cartésiennes du sev engendré par les vecteurs de la famille $(u_0,u_0, \\dots, u_{p-1})$. Pour cela, il suffit d'adjoindre au tableau une colonne symbolique $x_0,\\dots, x_{n-1}$\n",
    "\n",
    "$$\\begin{array}{cccc|c} 0 & 1 & 2 &1&x_0\\\\ 0 & 0 &0 &0&x_1\\\\-2 & 1 & -1 &0&x_2\\\\0 & -2 &3&5&x_3\\\\ 1 &0 & 1& 0&x_4\\end{array}$$\n",
    "\n",
    "et d'effectuer l'algorithme habituel sauf que les expressions symboliques ne deviennent jamais pivot. En pratique, comme les coefficients des variables $x_i$ ne se modifient que par combinaison linéaire, on n'utilise pas une seule colonne symbolique mais plutôt $n$ colonnes chacune représentant le coefficient de $x_i$ :\n",
    "\n",
    "$$\\begin{array}{cccc|ccccc} 0 & 1 & 2 &1&1 & 0 & 0& 0& 0 \\\\ 0 & 0 &0 &0&0 & 1 & 0& 0& 0 \\\\-2 & 1 & -1 &0&0 & 0 & 1& 0& 0 \\\\0 & -2 &3&5&0 & 0 & 0& 1& 0 \\\\ 1 &0 & 1& 0&0 & 0 & 0& 0& 1 \\\\\\end{array}$$\n",
    "\n",
    "Modifier la fonction `gauss(P)` de la première question et créer une fonction `equat_cart(P)` qui renvoie les équations cartésiennes du sev engendré $F$ par les vecteurs colonnes de `P`. Les équations cartésiennes seront données sous forme d'une matrice de $q$ lignes et $n$ colonnes, chaque ligne représentant les coefficients d'une des équations cartésiennes de $F$. On commencera par étendre vers la droite la matrice initiale. Pour adapter le code de `gauss`, il suffit en fait d'interdire la venue de pivots originaires d'une colonne d'indice $j>p-1$. Les équations cartésiennes seront obtenues en sélectionnant les lignes non nulles parmi les $n$ dernières colonnes de la matrice étendue.\n",
    "\n",
    "Pour l'exemple témoin, on obtiendra la matrice suivante :\n",
    "\n",
    "$$\\left(\\begin{array}{rrrrrrrrr}1 & 0 & 0 & 0 & 0 & 0 & 0 & 0 & 0 \\\\0 & 0 & 0 & 0 & 0 & 1 & 0 & 0 & 0 \\\\1 & -2 & 0 & 0 & 0 & 0 & 0 & 0 & 0 \\\\-2 & 0 & 7 & 0 & 0 & 0 & 0 & 0 & 0 \\\\0 & 1 & -\\frac{1}{2} & 0 & -\\frac{5}{14} & 0 & \\frac{1}{2} & \\frac{1}{14} & 1\\end{array}\\right)$$\n",
    "\n",
    "ce qui signifie qu'un système d'équations cartésiennes de $F$ est\n",
    "\n",
    "$$\\begin{cases} x_1=0\\\\ -\\frac{5}{14}x_0 +  \\frac{1}{2}x_2 + \\frac{1}{14}x_3 + x_4=0\\end{cases}$$\n",
    "\n",
    "Tester et vérifier.\n",
    "\n"
   ]
  },
  {
   "cell_type": "code",
   "execution_count": null,
   "metadata": {},
   "outputs": [],
   "source": [
    "# Votre code ICI\n",
    "\n",
    "# Tests\n",
    "        \n",
    "u1=vector([0, 0, -2 , 0 , 1])\n",
    "u2=vector([1, 0, 1 , -2 , 0])\n",
    "u3=vector([2, 0, -1 , 3 , 1])\n",
    "u4=vector([1, 0, 0 , 5 , 0])\n",
    "\n",
    "P=column_matrix(QQ,[u1, u2, u3,u4])\n",
    "show(P)\n",
    "ec(P)"
   ]
  },
  {
   "cell_type": "markdown",
   "metadata": {},
   "source": [
    "\n",
    "\n"
   ]
  },
  {
   "cell_type": "code",
   "execution_count": null,
   "metadata": {},
   "outputs": [],
   "source": []
  }
 ],
 "metadata": {
  "kernelspec": {
   "display_name": "SageMath 9.0",
   "language": "sage",
   "name": "sagemath"
  },
  "language_info": {
   "codemirror_mode": {
    "name": "ipython",
    "version": 3
   },
   "file_extension": ".py",
   "mimetype": "text/x-python",
   "name": "python",
   "nbconvert_exporter": "python",
   "pygments_lexer": "ipython3",
   "version": "3.7.3"
  }
 },
 "nbformat": 4,
 "nbformat_minor": 1
}
